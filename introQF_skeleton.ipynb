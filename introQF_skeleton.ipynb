{
  "cells": [
    {
      "cell_type": "markdown", 
      "metadata": {}, 
      "source": [
        "# Loading the libraries\n", 
        "\n", 
        "Start by loading the libraries needed. `__future__` is a way to have compatibility with Python 3 code (see also the Python warmup notebook). `introQF_library` loads the necessary libraries (`numpy`,`scipy`,`plotly`,..) and basic tools needed for this course, have a look later if you are interested.\n", 
        "\n", 
        "(Executing this may take a few seconds, plotly takes a bit of time to load)"
      ]
    }, 
    {
      "cell_type": "code", 
      "execution_count": 0, 
      "metadata": {
        "collapsed": false
      }, 
      "outputs": [], 
      "source": [
        "from __future__ import division, print_function\n", 
        "from introQF_library import *"
      ]
    }, 
    {
      "cell_type": "markdown", 
      "metadata": {}, 
      "source": [
        "In a standard fashion, the `numpy` module can now be called with `np.` and `scipy` with `sc.`"
      ]
    }, 
    {
      "cell_type": "markdown", 
      "metadata": {}, 
      "source": [
        "# Crash Course in Probability"
      ]
    }, 
    {
      "cell_type": "markdown", 
      "metadata": {}, 
      "source": [
        "In the presence of a discrete set of possible outcomes and gains, computing the expected gains is easy with the `dot` function from `numpy` which takes the elementwise product of two vectors and sums those. Use it to show the expected gains in the case presented below for two consecutive coinflips and a reward depending on the outcome:"
      ]
    }, 
    {
      "cell_type": "code", 
      "execution_count": 0, 
      "metadata": {
        "collapsed": false
      }, 
      "outputs": [], 
      "source": [
        "#outcomes:       {HH    HT    TH    TT  }\n", 
        "probs = np.array([1./4, 1./4, 1./4, 1./4])\n", 
        "gains = np.array([10  , 5   , 5   , 0   ])\n", 
        "\n", 
        "# Add your code here to display the expected gains ... \n"
      ]
    }, 
    {
      "cell_type": "markdown", 
      "metadata": {}, 
      "source": [
        "# Introduction\n", 
        "## Motivation"
      ]
    }, 
    {
      "cell_type": "markdown", 
      "metadata": {}, 
      "source": [
        "You can use the function `getPrices` below to retrieve dates and quotes from standard financial symbols. Note that this is a simple hack, more refined functions exist, for example \n", 
        "`quote_historical_yahoo_ochl` from `matplotlib.finance`. In general the problem of retrieving good quality financial data is difficult all by itself depending on the granularity desired (here it's pretty crude and hence not hard to find the data).\n", 
        "\n", 
        "You should try other symbols! from here: http://www.eoddata.com/symbols.aspx\n", 
        "\n", 
        "The period was chosen arbitrarily to surround the 2008 crisis which you will see. Change it as you see fit!"
      ]
    }, 
    {
      "cell_type": "code", 
      "execution_count": 0, 
      "metadata": {
        "collapsed": false
      }, 
      "outputs": [], 
      "source": [
        "aapl_d,aapl = getPrices('AAPL',2005,2013) \n", 
        "goog_d,goog = getPrices('GOOG',2005,2013)\n", 
        "# Add here some code if you'd like to try other symbols..."
      ]
    }, 
    {
      "cell_type": "markdown", 
      "metadata": {}, 
      "source": [
        "We can now display the quotes vs dates for both symbols (and by extension for any symbol you may have tried to retrieve).\n", 
        "\n", 
        "Use `Scatter` from `plotly` to display the evolution of the prices of your symbols. A standard layout is added for simplicity."
      ]
    }, 
    {
      "cell_type": "code", 
      "execution_count": 0, 
      "metadata": {
        "collapsed": false
      }, 
      "outputs": [], 
      "source": [
        "# Add here your code to generate the lines for the different symbols...\n", 
        "\n", 
        "layout = Layout(\n", 
        "    xaxis = dict(title = \"Trading days [2005-2013]\"),\n", 
        "    yaxis = dict(title = \"Prices\"),\n", 
        "    width = 700,\n", 
        ")\n", 
        "fig = dict(data = data, layout = layout)\n", 
        "iplot(fig)"
      ]
    }, 
    {
      "cell_type": "markdown", 
      "metadata": {}, 
      "source": [
        "# Observing prices\n", 
        "## The log-returns\n", 
        "\n", 
        "We will focus on studying and analyzing the **log-returns** which are defined as\n", 
        "\n", 
        "$\\log r_i = \\log {S_i\\over S_{i-1}}$\n", 
        "\n", 
        "i.e., the logarithm of subsequent prices. Compute the log-returns for your symbols and display them. To compute the logarithms of entries of an `np.array`, you can use `np.log`, also note that `vec1/vec2` returns an elementwise division of `vec1` by `vec2` provided the two vectors have the same length."
      ]
    }, 
    {
      "cell_type": "code", 
      "execution_count": 0, 
      "metadata": {
        "collapsed": false
      }, 
      "outputs": [], 
      "source": [
        "# Add your code here to compute the log-returns ...\n", 
        "\n", 
        "# And here your code to display them, note that the range of dates should be\n", 
        "# decreased by 1 since we are taking subsequent ratios...\n", 
        "\n", 
        "# A standard layout for your convenience\n", 
        "layout = Layout(\n", 
        "    xaxis = dict(title = \"Trading days [2005-2013]\"),\n", 
        "    yaxis = dict(title = \"Log-returns\"),\n", 
        "    width = 700,\n", 
        ")\n", 
        "fig = dict(data = data, layout = layout)\n", 
        "iplot(fig)"
      ]
    }, 
    {
      "cell_type": "markdown", 
      "metadata": {}, 
      "source": [
        "If we model the log-returns as a random process, then you have just plotted a *realisation* of this random process. It is somewhat more informative to consider the histograms corresponding to those. Use `Histogram` from `plotly` to display them. If you want to display them side by side, use `tools.make_subplots` and `append_trace` (see instructions: https://plot.ly/ipython-notebooks/subplots/)"
      ]
    }, 
    {
      "cell_type": "code", 
      "execution_count": 0, 
      "metadata": {
        "collapsed": false
      }, 
      "outputs": [], 
      "source": [
        "# Add your code here to generate the histogrammes...\n"
      ]
    }, 
    {
      "cell_type": "markdown", 
      "metadata": {}, 
      "source": [
        "## Fitting a normal distribution\n", 
        "\n", 
        "Those histogrammes may remind you of normal distributions, to check this, we can *fit* normal distributions to each of those histograms. \n", 
        "For this, you will want to use\n", 
        "\n", 
        "* `np.linspace` to build an `np.array` consisting of equally spaced entries between two points (x-values of your normal distributions)\n", 
        "* `norm.fit` which returns the mean and standard deviation of the best fitting normal to a series of values (the log-returns in your case)\n", 
        "* `norm.pdf` which computes the pdf of a parametrised normal at given values\n", 
        "\n", 
        "Display the lines on top of the histogrammes, what can you observe?"
      ]
    }, 
    {
      "cell_type": "code", 
      "execution_count": 0, 
      "metadata": {
        "collapsed": false
      }, 
      "outputs": [], 
      "source": [
        "# Add your code here to fit normals to the log-returns and display them.\n"
      ]
    }, 
    {
      "cell_type": "markdown", 
      "metadata": {}, 
      "source": [
        "## (Bonus): Fitting a Student-t distribution\n", 
        "\n", 
        "The normal distribution fit is alright but not fantastic. You could try fitting another distribution such as the *Student-t* using `t.fit` and `t.pdf` and the same procedure as before."
      ]
    }, 
    {
      "cell_type": "code", 
      "execution_count": 0, 
      "metadata": {
        "collapsed": false
      }, 
      "outputs": [], 
      "source": [
        "# Add your code here to fit and display a Student-t distribution \n"
      ]
    }, 
    {
      "cell_type": "markdown", 
      "metadata": {}, 
      "source": [
        "## Log-returns with different lags\n", 
        "\n", 
        "So far you have looked at log-returns over subsequent prices but the notion of \"subsequent\" is flexible. You may want to look at log-returns over several quotes and study the evolution of the model in those conditions.\n", 
        "\n", 
        "We give you an inline function which can compute the lagged log-returns for a series of prices. Can you use it to display the corresponding histogrammes for a lag of - say - 5?"
      ]
    }, 
    {
      "cell_type": "code", 
      "execution_count": 0, 
      "metadata": {
        "collapsed": false
      }, 
      "outputs": [], 
      "source": [
        "\n", 
        "# inline function to compute the lagged-log returns for an arbitrary lag\n", 
        "llr = lambda prices, lag: np.log(prices[range(0+lag,len(prices),    lag)] / \n", 
        "                                 prices[range(0,    len(prices)-lag,lag)])\n", 
        "\n", 
        "# Add your code here to compute the lagged log-returns for a lag of 5\n", 
        "# Add your code here to show the histograms\n", 
        "#\n", 
        "\n", 
        "# Add your code here to fit normal distributions\n"
      ]
    }, 
    {
      "cell_type": "markdown", 
      "metadata": {}, 
      "source": [
        "## Evolution of the mean and variance of the lagged log-returns\n", 
        "\n", 
        "Looking at those log-returns, you should have a feel for their dependence to the lag noting that, when the lag increases, the *horizontal spread increases*.\n", 
        "\n", 
        "This is an important element which you should explore further. Let us compute the lagged log-returns for a number of lags and see how the mean and variance evolve. "
      ]
    }, 
    {
      "cell_type": "code", 
      "execution_count": 0, 
      "metadata": {
        "collapsed": false
      }, 
      "outputs": [], 
      "source": [
        "\n", 
        "lags     = np.array([1,3,5,7,10,15,20])\n", 
        "# Add your code here to compute the mean,standard deviation of the log returns\n", 
        "# corresponding \n", 
        "# Add your code here to display the evolution of the mean...\n", 
        "# Add your code here to display the evolution of the variance\n", 
        "# (squared standard deviation)\n"
      ]
    }, 
    {
      "cell_type": "markdown", 
      "metadata": {}, 
      "source": [
        "# Pricing Theory\n", 
        "## Not using the risk-neutral price leads to an arbitrage opportunity\n", 
        "\n", 
        "In this bonus, you can show that in the case of the two games based on coin flips, if the price of the second game is not \u00a312.3, then there is an arbitrage.\n", 
        "\n", 
        "For this, show the boundary curves for \n", 
        "\n", 
        "$$ a_1 = {7\\over P-6} $$\n", 
        "\n", 
        "and\n", 
        "\n", 
        "$$ a_2 = {-3\\over P-15}$$\n", 
        "\n", 
        "for a range of prices around \u00a312.3. \n", 
        "\n", 
        "What do you observe?"
      ]
    }, 
    {
      "cell_type": "code", 
      "execution_count": 0, 
      "metadata": {
        "collapsed": false
      }, 
      "outputs": [], 
      "source": [
        "# Add your code here to display the two boundary curves\n"
      ]
    }, 
    {
      "cell_type": "markdown", 
      "metadata": {}, 
      "source": [
        "# Derivatives\n", 
        "## Payoff curves for derivatives\n", 
        "\n", 
        "To obtain the payoff curve of a call or put, you may need to use the `np.maximum` function which returns the elementwise maximum of two arrays but can also be used as \n", 
        "\n", 
        "```python\n", 
        "np.maximum(array1, 0.0)\n", 
        "```\n", 
        "\n", 
        "which will return an array of the size of array1 with all negative entries set to `0.0`."
      ]
    }, 
    {
      "cell_type": "code", 
      "execution_count": 0, 
      "metadata": {
        "collapsed": false
      }, 
      "outputs": [], 
      "source": [
        "\n", 
        "K = 100 # Strike Price\n", 
        "S = np.linspace(90,110,100)\n", 
        "# Add your code here to compute the payoff of the call and put\n", 
        "# Add your code here to compute the payoff of the straddle\n", 
        "# Add your code here to display the straddle\n", 
        "# (and the call and the put if you want)\n"
      ]
    }, 
    {
      "cell_type": "markdown", 
      "metadata": {}, 
      "source": [
        "# Analytic\n", 
        "## Black-Scholes formula\n", 
        "\n", 
        "The Black-Scholes formula for the price of a call reads\n", 
        "\n", 
        "$$ V^\\text{call}_t = S_t \\Phi(d_1) - K \\exp(-r\\tau) \\Phi(d_2)$$\n", 
        "\n", 
        "where\n", 
        "\n", 
        "$$ d_{1,2} = {\\log(S_t/K) + (r\\pm \\sigma^2/2)\\tau \\over \\sigma \\sqrt{\\tau}}$$\n", 
        "\n", 
        "using the functions `np.log`, `np.exp`, `np.sqrt`, `norm.cdf` (for $\\Phi$) and either `**` or `np.power`, write a function `callPriceBS` taking as arguments `St,K,tau,r,v` and returning the price of the call."
      ]
    }, 
    {
      "cell_type": "code", 
      "execution_count": 0, 
      "metadata": {
        "collapsed": false
      }, 
      "outputs": [], 
      "source": [
        "def callPriceBS(St,K,tau,r,v):\n", 
        "# Add your code here...\n"
      ]
    }, 
    {
      "cell_type": "markdown", 
      "metadata": {}, 
      "source": [
        "Test that your code works, the following line should return approximately `17.4`."
      ]
    }, 
    {
      "cell_type": "code", 
      "execution_count": 0, 
      "metadata": {
        "collapsed": false
      }, 
      "outputs": [], 
      "source": [
        "\n", 
        "callPriceBS(105,100,2,0.05,0.15)"
      ]
    }, 
    {
      "cell_type": "markdown", 
      "metadata": {}, 
      "source": [
        "# Computing the greeks\n", 
        "\n", 
        "Below we show how one can compute the Delta both analytically and numerically."
      ]
    }, 
    {
      "cell_type": "code", 
      "execution_count": 0, 
      "metadata": {
        "collapsed": false
      }, 
      "outputs": [], 
      "source": [
        "\n", 
        "def callDeltaBS(St,K,tau,r,v):\n", 
        "    d1 = ( (np.log(St/K)) + (r+np.power(v,2)/2)*tau ) / (v*np.sqrt(tau))\n", 
        "    return norm.cdf(d1)\n", 
        "\n", 
        "def callDeltaNumerical(St,K,tau,r,v): \n", 
        "    deltaS = St/1000\n", 
        "    Vplus  = callPriceBS(St+deltaS,K,tau,r,v)\n", 
        "    V      = callPriceBS(St,K,tau,r,v)\n", 
        "    return (Vplus-V)/deltaS"
      ]
    }, 
    {
      "cell_type": "markdown", 
      "metadata": {}, 
      "source": [
        "You can test the differences and see that the numerical approximation is perfectly acceptable"
      ]
    }, 
    {
      "cell_type": "code", 
      "execution_count": 0, 
      "metadata": {
        "collapsed": false
      }, 
      "outputs": [], 
      "source": [
        "\n", 
        "dAnalytical = callDeltaBS(60,75,2,0.05,0.1)\n", 
        "dNumerical  = callDeltaNumerical(60,75,2,0.05,0.1)\n", 
        "pctDiff     = np.abs(dAnalytical-dNumerical)/dAnalytical*100\n", 
        "\n", 
        "print(\"Delta (Analytical): \", dAnalytical)\n", 
        "print(\"Delta (Numerical) : \", dNumerical)\n", 
        "print(\"Percentage diff   : \", pctDiff)"
      ]
    }, 
    {
      "cell_type": "markdown", 
      "metadata": {}, 
      "source": [
        "Let's plot the evolution of the Delta as a function of the price of the underlying when\n", 
        "\n", 
        "* $K=75$\n", 
        "* $\\tau = 2$\n", 
        "* $r=0.05$\n", 
        "* $v=0.1$\n", 
        "\n", 
        "And when the price of the underlying varies from $40$ to $105$ (use the `np.linspace` function).\n"
      ]
    }, 
    {
      "cell_type": "code", 
      "execution_count": 0, 
      "metadata": {
        "collapsed": false
      }, 
      "outputs": [], 
      "source": [
        "# your code here\n"
      ]
    }, 
    {
      "cell_type": "markdown", 
      "metadata": {}, 
      "source": [
        "Can you do the same with the Vega, Theta, ..."
      ]
    }, 
    {
      "cell_type": "code", 
      "execution_count": 0, 
      "metadata": {
        "collapsed": true
      }, 
      "outputs": [], 
      "source": [
        "# Add your code here to compute the Vega\n"
      ]
    }, 
    {
      "cell_type": "code", 
      "execution_count": 0, 
      "metadata": {
        "collapsed": false
      }, 
      "outputs": [], 
      "source": [
        "# Add your code here to display the Vega\n"
      ]
    }, 
    {
      "cell_type": "code", 
      "execution_count": 0, 
      "metadata": {
        "collapsed": true
      }, 
      "outputs": [], 
      "source": [
        "# Add your code here to compute the Theta\n"
      ]
    }, 
    {
      "cell_type": "code", 
      "execution_count": 0, 
      "metadata": {
        "collapsed": false
      }, 
      "outputs": [], 
      "source": [
        "# Add your code here to display the Theta\n"
      ]
    }, 
    {
      "cell_type": "markdown", 
      "metadata": {}, 
      "source": [
        "# The Volatility smile\n", 
        "\n", 
        "The file `aapl_smile.csv` contains \n", 
        "\n", 
        "* Bid and Ask for calls over a range of possible strikes\n", 
        "* The corresponding implied volatilities\n", 
        "\n", 
        "Open it using \n", 
        "```python\n", 
        "data = read_csv(\"aapl_smile.csv\")\n", 
        "```\n", 
        "\n", 
        "the elements can be read with\n", 
        "\n", 
        "* `data.STRIKE`\n", 
        "* `data.CBID`, `data.CASK` (call bid & ask)\n", 
        "* `data.PBID`, `data.PASK` (put bid and ask)\n", 
        "* `data.CBIDIV`, `data.CASKIV` (implied vol for the call)\n", 
        "* `data.PBIDIV`, `data.PASKIV` (implied vol for the put)\n", 
        "\n", 
        "Plot all of this with respect to the strike (keep the implied vol on another graph). What can you observe?\n"
      ]
    }, 
    {
      "cell_type": "code", 
      "execution_count": 0, 
      "metadata": {
        "collapsed": false
      }, 
      "outputs": [], 
      "source": [
        "# Read the data, plot the put,call bid and ask.\n"
      ]
    }, 
    {
      "cell_type": "code", 
      "execution_count": 0, 
      "metadata": {
        "collapsed": false
      }, 
      "outputs": [], 
      "source": [
        "# Plot the put,call bid and ask implied vol\n"
      ]
    }, 
    {
      "cell_type": "markdown", 
      "metadata": {}, 
      "source": [
        "# The binomial tree\n", 
        "\n", 
        "Compute the number of paths leading to each node of the last layer of an N-step binomial tree, use `comb` to compute\n", 
        "\n", 
        "$$ {N!\\over k!(N-k)!} $$\n", 
        "\n", 
        "if $N=4$, you should get `[1.0, 4.0, 6.0, 4.0, 1.0]`\n"
      ]
    }, 
    {
      "cell_type": "code", 
      "execution_count": 0, 
      "metadata": {
        "collapsed": false
      }, 
      "outputs": [], 
      "source": [
        "# note: there are N+1 final nodes when considering N steps\n", 
        "# Add your code here...\n"
      ]
    }, 
    {
      "cell_type": "markdown", 
      "metadata": {}, 
      "source": [
        "## Observing the convergence to a LogNormal distribution\n", 
        "\n", 
        "1. following the previous code, write functions returning the end probabilities and the end returns\n", 
        "2. display the probabilities associated with the returns, does the shape look familiar?"
      ]
    }, 
    {
      "cell_type": "code", 
      "execution_count": 0, 
      "metadata": {
        "collapsed": false
      }, 
      "outputs": [], 
      "source": [
        "# Add your code for functions returning the probabilities & returns \n", 
        "# corresponding to the last layer\n", 
        "# enter some arbitrary values\n", 
        "p = 0.6  # probability of going up\n", 
        "u = 1.03 # multiplicative \"up factor\"\n", 
        "d = 0.99 # multiplicative \"down factor\"\n", 
        "\n", 
        "# number of steps (play with this number)\n", 
        "N = 100\n", 
        "# Add your code here to compute the returns/probabilities using your functions...\n", 
        "# Add your code here to  display probabilities vs returns\n"
      ]
    }, 
    {
      "cell_type": "markdown", 
      "metadata": {}, 
      "source": [
        "Provided you have done the previous step successfully and defined a vector `returns` and `probas`, the following cell should show you how well the log-returns match a normal distribution. Don't pay attention too much to the re-scaling which is there to compare everything on a single scale."
      ]
    }, 
    {
      "cell_type": "code", 
      "execution_count": 0, 
      "metadata": {
        "collapsed": false
      }, 
      "outputs": [], 
      "source": [
        "\n", 
        "from numpy import trapz\n", 
        "\n", 
        "logreturns = np.log(returns)\n", 
        "\n", 
        "# the theory gives us the mean and variance\n", 
        "# at the limit when N goes to infinity\n", 
        "# the last line is to \"normalize\" so that the curves and\n", 
        "# the points are on the same scale \n", 
        "# (you can safely ignore all this)\n", 
        "th_mean = N*(p*np.log(u)+(1-p)*np.log(d))\n", 
        "th_var  = N*p*(1-p)*np.log(d/u)**2\n", 
        "pr_norm  = probas / abs(trapz(logreturns,probas))\n", 
        "\n", 
        "# show the possible log-returns with their weights\n", 
        "s  = Scatter(x=logreturns,y=pr_norm, mode='markers',name=\"Log returns\")\n", 
        "# show the normal distribution with the theoretical mean and variance\n", 
        "# computed above\n", 
        "xx = np.linspace(np.min(logreturns),np.max(logreturns),100)\n", 
        "yy = norm.pdf(xx,th_mean,np.sqrt(th_var))\n", 
        "s2 = Scatter(x=xx,y=yy,name=\"Normal fit\")\n", 
        "#\n", 
        "layout = Layout(\n", 
        "    xaxis = dict(title = \"Log-Returns\"),\n", 
        "    yaxis = dict(title = \"Probability\"),\n", 
        "    width = 700,\n", 
        ")\n", 
        "fig = dict(data=[s,s2],layout=layout)\n", 
        "iplot(fig)\n"
      ]
    }, 
    {
      "cell_type": "markdown", 
      "metadata": {}, 
      "source": [
        "## Pricing in a BT? easy!\n", 
        "\n", 
        "Write a code that reproduces each of the step of the pricing in a BT. \n", 
        "\n", 
        "Start by doing it step by step and check that you can get something like this result:\n", 
        "\n", 
        "```\n", 
        "Forward\n", 
        "100\n", 
        "[  99.  102.]\n", 
        "[  98.01  100.98  104.04]\n", 
        "Backward\n", 
        "[ 0.    1.98  5.04]\n", 
        "[ 0.66  3.  ]\n", 
        "1.44\n", 
        "```\n", 
        "\n", 
        "can you now make it into a function?\n"
      ]
    }, 
    {
      "cell_type": "code", 
      "execution_count": 0, 
      "metadata": {
        "collapsed": false
      }, 
      "outputs": [], 
      "source": [
        "\n", 
        "# EUROPEAN CALL\n", 
        "\n", 
        "S0 = 100\n", 
        "K  = 99\n", 
        "u  = 1.02\n", 
        "d  = 0.99\n", 
        "# Add your code here...\n"
      ]
    }
  ], 
  "metadata": {
    "anaconda-cloud": {}, 
    "kernelspec": {
      "display_name": "Python [Root]", 
      "language": "python", 
      "name": "Python [Root]"
    }, 
    "language_info": {
      "codemirror_mode": {
        "name": "ipython", 
        "version": 2
      }, 
      "file_extension": ".py", 
      "mimetype": "text/x-python", 
      "name": "python", 
      "nbconvert_exporter": "python", 
      "pygments_lexer": "ipython2", 
      "version": "2.7.12"
    }
  }, 
  "nbformat": 4, 
  "nbformat_minor": 0
}